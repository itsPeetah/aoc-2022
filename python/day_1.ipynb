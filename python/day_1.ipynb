{
 "cells": [
  {
   "cell_type": "markdown",
   "metadata": {},
   "source": [
    "### Part 1"
   ]
  },
  {
   "cell_type": "code",
   "execution_count": 9,
   "metadata": {},
   "outputs": [
    {
     "name": "stdout",
     "output_type": "stream",
     "text": [
      "71780\n"
     ]
    }
   ],
   "source": [
    "# Naive implementation first\n",
    "with open(\"../input/day_1.txt\", \"r\") as file:\n",
    "    elves = file.read().split(\"\\n\\n\")\n",
    "    maxCals = -1\n",
    "    for elf in elves:\n",
    "        cals=elf.split(\"\\n\")\n",
    "        total = 0\n",
    "        for cal in cals:\n",
    "            total += int(cal)\n",
    "            if(total > maxCals): maxCals = total\n",
    "    print(maxCals)"
   ]
  },
  {
   "cell_type": "code",
   "execution_count": 19,
   "metadata": {},
   "outputs": [
    {
     "name": "stdout",
     "output_type": "stream",
     "text": [
      "71780\n"
     ]
    }
   ],
   "source": [
    "# \"Pythonian way\"\n",
    "with open(\"../input/day_1.txt\", \"r\") as file:\n",
    "    caloriesPerElf = sorted([sum(map(int, elf.split(\"\\n\"))) for elf in file.read().split(\"\\n\\n\")])\n",
    "        \n",
    "    print(caloriesPerElf[-1])"
   ]
  },
  {
   "cell_type": "markdown",
   "metadata": {},
   "source": [
    "### Part 2"
   ]
  },
  {
   "cell_type": "code",
   "execution_count": 20,
   "metadata": {},
   "outputs": [
    {
     "name": "stdout",
     "output_type": "stream",
     "text": [
      "212489\n"
     ]
    }
   ],
   "source": [
    "with open(\"../input/day_1.txt\", \"r\") as file:\n",
    "    caloriesPerElf = sorted([sum(map(int, elf.split(\"\\n\"))) for elf in file.read().split(\"\\n\\n\")])\n",
    "    total = sum(caloriesPerElf[-3:])\n",
    "    print(total)"
   ]
  },
  {
   "cell_type": "code",
   "execution_count": 18,
   "metadata": {},
   "outputs": [
    {
     "name": "stdout",
     "output_type": "stream",
     "text": [
      "212489\n"
     ]
    }
   ],
   "source": [
    "with open(\"../input/day_1.txt\", \"r\") as file:\n",
    "    sumOfTopThreeCalories = sum(sorted([sum(map(int, elf.split(\"\\n\"))) for elf in file.read().split(\"\\n\\n\")])[-3:])\n",
    "    print(sumOfTopThreeCalories)"
   ]
  },
  {
   "cell_type": "code",
   "execution_count": 22,
   "metadata": {},
   "outputs": [
    {
     "name": "stdout",
     "output_type": "stream",
     "text": [
      "212489\n"
     ]
    }
   ],
   "source": [
    "# This is getting ridiculous\n",
    "print(sum(sorted([sum(map(int, elf.split(\"\\n\"))) for elf in open(\"../input/day_1.txt\", \"r\").read().split(\"\\n\\n\")])[-3:]))"
   ]
  },
  {
   "cell_type": "code",
   "execution_count": null,
   "metadata": {},
   "outputs": [],
   "source": []
  }
 ],
 "metadata": {
  "kernelspec": {
   "display_name": "Python 3.10.7 64-bit",
   "language": "python",
   "name": "python3"
  },
  "language_info": {
   "codemirror_mode": {
    "name": "ipython",
    "version": 3
   },
   "file_extension": ".py",
   "mimetype": "text/x-python",
   "name": "python",
   "nbconvert_exporter": "python",
   "pygments_lexer": "ipython3",
   "version": "3.10.7"
  },
  "orig_nbformat": 4,
  "vscode": {
   "interpreter": {
    "hash": "aee8b7b246df8f9039afb4144a1f6fd8d2ca17a180786b69acc140d282b71a49"
   }
  }
 },
 "nbformat": 4,
 "nbformat_minor": 2
}
