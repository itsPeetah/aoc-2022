{
 "cells": [
  {
   "cell_type": "markdown",
   "metadata": {},
   "source": [
    "### Part 1"
   ]
  },
  {
   "cell_type": "code",
   "execution_count": 15,
   "metadata": {},
   "outputs": [],
   "source": [
    "toABC = {\"A\":\"A\", \"B\":\"B\", \"C\":\"C\", \"X\":\"A\", \"Y\":\"B\", \"Z\":\"C\"}\n",
    "score = {\"A\": 1, \"B\": 2, \"C\": 3}\n",
    "matchups = { \"A\" : \"C\", \"B\" : \"A\", \"C\" : \"B\"}\n",
    "    "
   ]
  },
  {
   "cell_type": "code",
   "execution_count": 14,
   "metadata": {},
   "outputs": [
    {
     "name": "stdout",
     "output_type": "stream",
     "text": [
      "13052\n"
     ]
    }
   ],
   "source": [
    "with open(\"../input/day_2.txt\", \"r\") as file:\n",
    "    total = 0\n",
    "    for line in file:\n",
    "        elf, you = line.strip().split(\" \")\n",
    "        you = toABC[you]\n",
    "        game = 0\n",
    "        if elf == you: game=3\n",
    "        elif elf == matchups[you]: game=6\n",
    "        game += score[you]\n",
    "        total += game\n",
    "    print(total)"
   ]
  },
  {
   "cell_type": "markdown",
   "metadata": {},
   "source": [
    "### Part 2"
   ]
  },
  {
   "cell_type": "code",
   "execution_count": 16,
   "metadata": {},
   "outputs": [],
   "source": [
    "inverseMatchups = {\"A\" : \"B\", \"B\": \"C\", \"C\" : \"A\"}"
   ]
  },
  {
   "cell_type": "code",
   "execution_count": 17,
   "metadata": {},
   "outputs": [
    {
     "name": "stdout",
     "output_type": "stream",
     "text": [
      "13693\n"
     ]
    }
   ],
   "source": [
    "\n",
    "with open(\"../input/day_2.txt\", \"r\") as file:\n",
    "    total = 0\n",
    "    for line in file:\n",
    "        elf, you = line.strip().split(\" \")\n",
    "        game = 0\n",
    "        if you == \"Y\":\n",
    "            game=3\n",
    "            you=elf\n",
    "        elif you == \"Z\":\n",
    "            game=6\n",
    "            you = inverseMatchups[elf]\n",
    "        else:\n",
    "            you = matchups[elf]\n",
    "        game += score[you]\n",
    "        total += game\n",
    "    print(total)"
   ]
  },
  {
   "cell_type": "markdown",
   "metadata": {},
   "source": [
    "### Making it \"neater\"\n",
    "\n",
    "That is: making it illegible with as few lines of code as possible"
   ]
  },
  {
   "cell_type": "code",
   "execution_count": 36,
   "metadata": {},
   "outputs": [
    {
     "name": "stdout",
     "output_type": "stream",
     "text": [
      "13052\n"
     ]
    }
   ],
   "source": [
    "# Part 1\n",
    "\n",
    "toABC = {\"A\":\"A\", \"B\":\"B\", \"C\":\"C\", \"X\":\"A\", \"Y\":\"B\", \"Z\":\"C\"}\n",
    "score = {\"A\": 1, \"B\": 2, \"C\": 3}\n",
    "matchups = { \"A\" : \"C\", \"B\" : \"A\", \"C\" : \"B\"}\n",
    "\n",
    "# Doing it with generators\n",
    "\n",
    "with open(\"../input/day_2.txt\", \"r\") as file:\n",
    "    matches = [line.strip().split() for line in file]\n",
    "    total = sum([score[toABC[you]] + (3 if elf == toABC[you] else 6 if elf == matchups[toABC[you]] else 0) for elf, you in matches])\n",
    "    print(total)"
   ]
  },
  {
   "cell_type": "code",
   "execution_count": 37,
   "metadata": {},
   "outputs": [
    {
     "data": {
      "text/plain": [
       "13052"
      ]
     },
     "execution_count": 37,
     "metadata": {},
     "output_type": "execute_result"
    }
   ],
   "source": [
    "# Single generator\n",
    "\n",
    "toABC = {\"A\":\"A\", \"B\":\"B\", \"C\":\"C\", \"X\":\"A\", \"Y\":\"B\", \"Z\":\"C\"}\n",
    "score = {\"A\": 1, \"B\": 2, \"C\": 3}\n",
    "matchups = { \"A\" : \"C\", \"B\" : \"A\", \"C\" : \"B\"}\n",
    "sum([score[toABC[you]] + (3 if elf == toABC[you] else 6 if elf == matchups[toABC[you]] else 0) for elf, you in [line.strip().split() for line in open(\"../input/day_2.txt\", \"r\")]])"
   ]
  },
  {
   "cell_type": "code",
   "execution_count": 38,
   "metadata": {},
   "outputs": [
    {
     "data": {
      "text/plain": [
       "13052"
      ]
     },
     "execution_count": 38,
     "metadata": {},
     "output_type": "execute_result"
    }
   ],
   "source": [
    "# \"C-like\" char int operation\n",
    "\n",
    "toABC = {\"A\":\"A\", \"B\":\"B\", \"C\":\"C\", \"X\":\"A\", \"Y\":\"B\", \"Z\":\"C\"}\n",
    "matchups = { \"A\" : \"C\", \"B\" : \"A\", \"C\" : \"B\"}\n",
    "sum([int(toABC[you], 16) - (int(\"A\", 16) - 1) + (3 if elf == toABC[you] else 6 if elf == matchups[toABC[you]] else 0) for elf, you in [line.strip().split() for line in open(\"../input/day_2.txt\", \"r\")]])"
   ]
  },
  {
   "cell_type": "code",
   "execution_count": 62,
   "metadata": {},
   "outputs": [
    {
     "data": {
      "text/plain": [
       "13052"
      ]
     },
     "execution_count": 62,
     "metadata": {},
     "output_type": "execute_result"
    }
   ],
   "source": [
    "# One step further: inlining lookups\n",
    "# sum([int(you, 36) - (int(\"A\", 36) - 1) + (3 if elf == you else 6 if elf == matchups[you] else 0) for elf, you in [(e, (\"A\", \"B\", \"C\")[int(y, 36) - int(\"X\", 36)]) for e, y in [line.strip().split()for line in open(\"../input/day_2.txt\", \"r\")]]])\n",
    "sum([int(you, 16) - (int(\"A\", 16) - 1) + (3 if elf == you else 6 if elf == {\"A\":\"C\",\"B\":\"A\",\"C\":\"B\"}[you] else 0) for elf, you in [(e, {\"X\":\"A\",\"Y\":\"B\",\"Z\":\"C\"}[y]) for e, y in [line.strip().split()for line in open(\"../input/day_2.txt\", \"r\")]]])"
   ]
  },
  {
   "cell_type": "code",
   "execution_count": 67,
   "metadata": {},
   "outputs": [
    {
     "data": {
      "text/plain": [
       "13052"
      ]
     },
     "execution_count": 67,
     "metadata": {},
     "output_type": "execute_result"
    }
   ],
   "source": [
    "# removing dictionaries\n",
    "sum([int(you, 36) - (int(\"A\", 36) - 1) + (3 if elf == you else 6 if elf == (\"C\", \"A\", \"B\")[int(you, 16) - int(\"A\", 16)] else 0) for elf, you in [(e, (\"A\", \"B\", \"C\")[int(y, 36) - int(\"X\", 36)]) for e, y in [line.strip().split()for line in open(\"../input/day_2.txt\", \"r\")]]])"
   ]
  },
  {
   "cell_type": "code",
   "execution_count": 83,
   "metadata": {},
   "outputs": [
    {
     "data": {
      "text/plain": [
       "13052"
      ]
     },
     "execution_count": 83,
     "metadata": {},
     "output_type": "execute_result"
    }
   ],
   "source": [
    "# Shortening + making names\n",
    "sum([i + 1 + (3 if o == p else 6 if o == (\"C\", \"A\", \"B\")[i] else 0) for o, p, i in [(e, (\"A\", \"B\", \"C\")[int(y, 36) - int(\"X\", 36)], int(y, 36) - int(\"X\", 36)) for e, y in [l.strip().split()for l in open(\"../input/day_2.txt\", \"r\")]]])"
   ]
  },
  {
   "cell_type": "code",
   "execution_count": 94,
   "metadata": {},
   "outputs": [
    {
     "data": {
      "text/plain": [
       "13052"
      ]
     },
     "execution_count": 94,
     "metadata": {},
     "output_type": "execute_result"
    }
   ],
   "source": [
    "# Walking back\n",
    "sum([i + 1 + (3 if o == (\"A\", \"B\", \"C\")[i] else 6 if o == (\"C\", \"A\", \"B\")[i] else 0) for o, i in [(e, int(y, 36) - int(\"X\", 36)) for e, y in [l.strip().split()for l in open(\"../input/day_2.txt\", \"r\")]]])"
   ]
  },
  {
   "cell_type": "code",
   "execution_count": 99,
   "metadata": {},
   "outputs": [
    {
     "data": {
      "text/plain": [
       "13052"
      ]
     },
     "execution_count": 99,
     "metadata": {},
     "output_type": "execute_result"
    }
   ],
   "source": [
    "# No more letters\n",
    "sum([i + 1 + (3 if o == i else 6 if o == ((i+2)%3) else 0) for o, i in [(int(e, 16) - int(\"A\", 16), int(y, 36) - int(\"X\", 36)) for e, y in [l.strip().split() for l in open(\"../input/day_2.txt\", \"r\")]]])"
   ]
  },
  {
   "cell_type": "code",
   "execution_count": 108,
   "metadata": {},
   "outputs": [
    {
     "data": {
      "text/plain": [
       "13052"
      ]
     },
     "execution_count": 108,
     "metadata": {},
     "output_type": "execute_result"
    }
   ],
   "source": [
    "# Unhinged\n",
    "sum([(i+4 if o == i else i+7 if o == ((i+2)%3) else i+1) for o, i in [(int(e, 16) - int(\"A\", 16), int(y, 36) - int(\"X\", 36)) for e, y in [l.strip().split() for l in open(\"../input/day_2.txt\")]]])"
   ]
  }
 ],
 "metadata": {
  "kernelspec": {
   "display_name": "Python 3.10.7 64-bit",
   "language": "python",
   "name": "python3"
  },
  "language_info": {
   "codemirror_mode": {
    "name": "ipython",
    "version": 3
   },
   "file_extension": ".py",
   "mimetype": "text/x-python",
   "name": "python",
   "nbconvert_exporter": "python",
   "pygments_lexer": "ipython3",
   "version": "3.10.7"
  },
  "orig_nbformat": 4,
  "vscode": {
   "interpreter": {
    "hash": "aee8b7b246df8f9039afb4144a1f6fd8d2ca17a180786b69acc140d282b71a49"
   }
  }
 },
 "nbformat": 4,
 "nbformat_minor": 2
}
