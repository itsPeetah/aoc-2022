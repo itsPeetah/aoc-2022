{
 "cells": [
  {
   "cell_type": "markdown",
   "metadata": {},
   "source": [
    "### Part 1"
   ]
  },
  {
   "cell_type": "code",
   "execution_count": 15,
   "metadata": {},
   "outputs": [],
   "source": [
    "toABC = {\"A\":\"A\", \"B\":\"B\", \"C\":\"C\", \"X\":\"A\", \"Y\":\"B\", \"Z\":\"C\"}\n",
    "score = {\"A\": 1, \"B\": 2, \"C\": 3}\n",
    "matchups = { \"A\" : \"C\", \"B\" : \"A\", \"C\" : \"B\"}\n",
    "    "
   ]
  },
  {
   "cell_type": "code",
   "execution_count": 14,
   "metadata": {},
   "outputs": [
    {
     "name": "stdout",
     "output_type": "stream",
     "text": [
      "13052\n"
     ]
    }
   ],
   "source": [
    "with open(\"../input/day_2.txt\", \"r\") as file:\n",
    "    total = 0\n",
    "    for line in file:\n",
    "        elf, you = line.strip().split(\" \")\n",
    "        you = toABC[you]\n",
    "        game = 0\n",
    "        if elf == you: game=3\n",
    "        elif elf == matchups[you]: game=6\n",
    "        game += score[you]\n",
    "        total += game\n",
    "    print(total)"
   ]
  },
  {
   "cell_type": "markdown",
   "metadata": {},
   "source": [
    "### Part 2"
   ]
  },
  {
   "cell_type": "code",
   "execution_count": 16,
   "metadata": {},
   "outputs": [],
   "source": [
    "inverseMatchups = {\"A\" : \"B\", \"B\": \"C\", \"C\" : \"A\"}"
   ]
  },
  {
   "cell_type": "code",
   "execution_count": 17,
   "metadata": {},
   "outputs": [
    {
     "name": "stdout",
     "output_type": "stream",
     "text": [
      "13693\n"
     ]
    }
   ],
   "source": [
    "\n",
    "with open(\"../input/day_2.txt\", \"r\") as file:\n",
    "    total = 0\n",
    "    for line in file:\n",
    "        elf, you = line.strip().split(\" \")\n",
    "        game = 0\n",
    "        if you == \"Y\":\n",
    "            game=3\n",
    "            you=elf\n",
    "        elif you == \"Z\":\n",
    "            game=6\n",
    "            you = inverseMatchups[elf]\n",
    "        else:\n",
    "            you = matchups[elf]\n",
    "        game += score[you]\n",
    "        total += game\n",
    "    print(total)"
   ]
  },
  {
   "cell_type": "code",
   "execution_count": null,
   "metadata": {},
   "outputs": [],
   "source": []
  }
 ],
 "metadata": {
  "kernelspec": {
   "display_name": "Python 3.10.7 64-bit",
   "language": "python",
   "name": "python3"
  },
  "language_info": {
   "codemirror_mode": {
    "name": "ipython",
    "version": 3
   },
   "file_extension": ".py",
   "mimetype": "text/x-python",
   "name": "python",
   "nbconvert_exporter": "python",
   "pygments_lexer": "ipython3",
   "version": "3.10.7"
  },
  "orig_nbformat": 4,
  "vscode": {
   "interpreter": {
    "hash": "aee8b7b246df8f9039afb4144a1f6fd8d2ca17a180786b69acc140d282b71a49"
   }
  }
 },
 "nbformat": 4,
 "nbformat_minor": 2
}
