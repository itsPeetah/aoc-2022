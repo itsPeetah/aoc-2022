{
 "cells": [
  {
   "cell_type": "markdown",
   "metadata": {},
   "source": [
    "# Part 1"
   ]
  },
  {
   "cell_type": "code",
   "execution_count": 19,
   "metadata": {},
   "outputs": [
    {
     "name": "stdout",
     "output_type": "stream",
     "text": [
      "599\n"
     ]
    }
   ],
   "source": [
    "with open(\"../input/day_4.txt\") as file:\n",
    "    s = 0\n",
    "    for line in file.read().split(\"\\n\"):\n",
    "        e1, e2 = line.split(\",\")\n",
    "        e1a, e1b = map(int, e1.split(\"-\"))\n",
    "        e2a, e2b = map(int, e2.split(\"-\"))\n",
    "        e1_in_e2 = all([x in range(e2a,e2b+1) for x in range(e1a,e1b+1)])\n",
    "        e2_in_e1 = all([x in range(e1a,e1b+1) for x in range(e2a,e2b+1)])\n",
    "        s+=1 if e1_in_e2 or e2_in_e1 else 0\n",
    "    print(s)"
   ]
  },
  {
   "cell_type": "markdown",
   "metadata": {},
   "source": [
    "# Part 2"
   ]
  },
  {
   "cell_type": "code",
   "execution_count": 20,
   "metadata": {},
   "outputs": [
    {
     "name": "stdout",
     "output_type": "stream",
     "text": [
      "928\n"
     ]
    }
   ],
   "source": [
    "with open(\"../input/day_4.txt\") as file:\n",
    "    s = 0\n",
    "    for line in file.read().split(\"\\n\"):\n",
    "        e1, e2 = line.split(\",\")\n",
    "        e1a, e1b = map(int, e1.split(\"-\"))\n",
    "        e2a, e2b = map(int, e2.split(\"-\"))\n",
    "        e1_in_e2 = any([x in range(e2a,e2b+1) for x in range(e1a,e1b+1)])\n",
    "        e2_in_e1 = any([x in range(e1a,e1b+1) for x in range(e2a,e2b+1)])\n",
    "        s+=1 if e1_in_e2 or e2_in_e1 else 0\n",
    "    print(s)"
   ]
  }
 ],
 "metadata": {
  "kernelspec": {
   "display_name": "Python 3.10.7 64-bit",
   "language": "python",
   "name": "python3"
  },
  "language_info": {
   "codemirror_mode": {
    "name": "ipython",
    "version": 3
   },
   "file_extension": ".py",
   "mimetype": "text/x-python",
   "name": "python",
   "nbconvert_exporter": "python",
   "pygments_lexer": "ipython3",
   "version": "3.10.7"
  },
  "orig_nbformat": 4,
  "vscode": {
   "interpreter": {
    "hash": "aee8b7b246df8f9039afb4144a1f6fd8d2ca17a180786b69acc140d282b71a49"
   }
  }
 },
 "nbformat": 4,
 "nbformat_minor": 2
}
