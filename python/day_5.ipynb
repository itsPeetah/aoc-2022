{
 "cells": [
  {
   "cell_type": "markdown",
   "metadata": {},
   "source": [
    "# Parsing"
   ]
  },
  {
   "cell_type": "code",
   "execution_count": 69,
   "metadata": {},
   "outputs": [],
   "source": [
    "def splitFile(fp)->tuple[str]:\n",
    "    file = open(fp)\n",
    "    strs = file.read().split(\"\\n\\n\")\n",
    "    file.close()\n",
    "    return strs"
   ]
  },
  {
   "cell_type": "code",
   "execution_count": 70,
   "metadata": {},
   "outputs": [],
   "source": [
    "def parseMove(move:str)->tuple[int]:\n",
    "    fields = move.split(\" \")\n",
    "    return (int(fields[1]), int(fields[3])-1, int(fields[5])-1)"
   ]
  },
  {
   "cell_type": "code",
   "execution_count": 71,
   "metadata": {},
   "outputs": [],
   "source": [
    "def parseStacks(txt:str)->list[list[str]]:\n",
    "    lines = txt.split(\"\\n\")\n",
    "    lastLine = lines[-1]\n",
    "    stacks = []\n",
    "    for i in range(len(lastLine)):\n",
    "        if lastLine[i] == \" \": continue\n",
    "        stacks.append([])\n",
    "        for j in range(len(lines)-2, -1, -1):\n",
    "            box = lines[j][i]\n",
    "            if box == \" \": break\n",
    "            stacks[-1].append(box)\n",
    "    return stacks\n",
    "        "
   ]
  },
  {
   "cell_type": "code",
   "execution_count": 84,
   "metadata": {},
   "outputs": [],
   "source": [
    "stacksTxt, stepsTxt = splitFile(\"../input/day_5.txt\")"
   ]
  },
  {
   "cell_type": "markdown",
   "metadata": {},
   "source": [
    "# Part 1"
   ]
  },
  {
   "cell_type": "code",
   "execution_count": 85,
   "metadata": {},
   "outputs": [
    {
     "data": {
      "text/plain": [
       "'QNNTGTPFN'"
      ]
     },
     "execution_count": 85,
     "metadata": {},
     "output_type": "execute_result"
    }
   ],
   "source": [
    "steps = list(map(parseMove, stepsTxt.split(\"\\n\")))\n",
    "stacks = parseStacks(stacksTxt)\n",
    "\n",
    "for num, src, dst in steps:\n",
    "    src = stacks[src]\n",
    "    dst = stacks[dst]\n",
    "    for i in range(0, num):\n",
    "        \n",
    "        b = src.pop()\n",
    "        dst.append(b)\n",
    "\n",
    "\"\".join(stack[-1] for stack in stacks)"
   ]
  },
  {
   "cell_type": "markdown",
   "metadata": {},
   "source": [
    "# Part 2"
   ]
  },
  {
   "cell_type": "code",
   "execution_count": 93,
   "metadata": {},
   "outputs": [
    {
     "data": {
      "text/plain": [
       "'GGNPJBTTR'"
      ]
     },
     "execution_count": 93,
     "metadata": {},
     "output_type": "execute_result"
    }
   ],
   "source": [
    "steps = list(map(parseMove, stepsTxt.split(\"\\n\")))\n",
    "stacks = parseStacks(stacksTxt)\n",
    "\n",
    "for num, src, dst in steps:\n",
    "    stacks[dst] += stacks[src][-num:]\n",
    "    stacks[src] = stacks[src][:-num]\n",
    "\n",
    "\"\".join(stack[-1] for stack in stacks)"
   ]
  },
  {
   "cell_type": "code",
   "execution_count": null,
   "metadata": {},
   "outputs": [],
   "source": []
  },
  {
   "cell_type": "code",
   "execution_count": null,
   "metadata": {},
   "outputs": [],
   "source": []
  },
  {
   "cell_type": "code",
   "execution_count": null,
   "metadata": {},
   "outputs": [],
   "source": []
  }
 ],
 "metadata": {
  "kernelspec": {
   "display_name": "Python 3.10.7 64-bit",
   "language": "python",
   "name": "python3"
  },
  "language_info": {
   "codemirror_mode": {
    "name": "ipython",
    "version": 3
   },
   "file_extension": ".py",
   "mimetype": "text/x-python",
   "name": "python",
   "nbconvert_exporter": "python",
   "pygments_lexer": "ipython3",
   "version": "3.10.7"
  },
  "orig_nbformat": 4,
  "vscode": {
   "interpreter": {
    "hash": "aee8b7b246df8f9039afb4144a1f6fd8d2ca17a180786b69acc140d282b71a49"
   }
  }
 },
 "nbformat": 4,
 "nbformat_minor": 2
}
